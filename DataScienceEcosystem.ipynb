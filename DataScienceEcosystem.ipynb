{
 "cells": [
  {
   "cell_type": "markdown",
   "id": "30966747-c76a-4ebb-ab29-1a1111c83cbb",
   "metadata": {},
   "source": [
    "# Data Science Tools and Ecosystem"
   ]
  },
  {
   "cell_type": "markdown",
   "id": "bcce645a-ff60-443b-9dc0-d9496da40963",
   "metadata": {},
   "source": [
    "# In this notebook, Data Science Tools and Ecosystem are summarized"
   ]
  },
  {
   "cell_type": "markdown",
   "id": "d1ee55b1-7501-4673-8c7b-22a29af01646",
   "metadata": {},
   "source": [
    "# BOLD Objectives:\n",
    "* Python\n",
    "* R\n",
    "* SQL\n",
    "* Julia\n",
    "* Java"
   ]
  },
  {
   "cell_type": "markdown",
   "id": "ea16282b-4b28-4d6b-bb1b-2b67c96bd73a",
   "metadata": {},
   "source": [
    "# Some of the popular languages that Data Scientists use are:\n",
    "1. Python\n",
    "2. Numpy\n",
    "3. Pandas"
   ]
  },
  {
   "cell_type": "markdown",
   "id": "0479a81c-23c4-443a-ab11-0c47b32335b8",
   "metadata": {},
   "source": [
    "# Some of the commonly used libraries used by Data Scientists include:\n",
    "    1.Numpy\n",
    "    2.Pandas\n",
    "    3.Matplotlib\n",
    "    4.Scikit learn"
   ]
  },
  {
   "cell_type": "markdown",
   "id": "4f066728-e283-4b8b-889f-88dc8295629d",
   "metadata": {},
   "source": [
    "# Data Science Tools \n",
    "    | Data Science Tools |\n",
    "    |--------------------|\n",
    "    |Tableua|\n",
    "    |Python|\n",
    "    |TensorFlow|"
   ]
  },
  {
   "cell_type": "markdown",
   "id": "b27919bc-1b22-4805-9877-b0f9eb918388",
   "metadata": {},
   "source": [
    "### Below are a few examples of evaluating arithmetic expressions in Python"
   ]
  },
  {
   "cell_type": "code",
   "execution_count": 2,
   "id": "c7be2666-f75f-4458-b950-24d8e1430969",
   "metadata": {},
   "outputs": [
    {
     "name": "stdout",
     "output_type": "stream",
     "text": [
      "17\n"
     ]
    }
   ],
   "source": [
    "# This a simple arithmetic expression to mutiply then add integers\n",
    "print((3*4)+5)"
   ]
  },
  {
   "cell_type": "code",
   "execution_count": 9,
   "id": "8561cb6f-85a1-4b45-83fe-7a6077d9cc20",
   "metadata": {},
   "outputs": [
    {
     "name": "stdout",
     "output_type": "stream",
     "text": [
      "Total hours is -  3.3333333333333335\n"
     ]
    }
   ],
   "source": [
    "# This will convert 200 minutes to hours by diving by 60\n",
    "\n",
    "print('Total hours is - ', (200/60))"
   ]
  },
  {
   "cell_type": "markdown",
   "id": "cdcb3aeb-b867-496d-b646-04f607741268",
   "metadata": {},
   "source": [
    "## Author\n",
    "Sourav Samir Ghosh"
   ]
  },
  {
   "cell_type": "code",
   "execution_count": null,
   "id": "a8732190-4d2c-403b-9935-3a66399114cd",
   "metadata": {},
   "outputs": [],
   "source": []
  }
 ],
 "metadata": {
  "kernelspec": {
   "display_name": "Python 3 (ipykernel)",
   "language": "python",
   "name": "python3"
  },
  "language_info": {
   "codemirror_mode": {
    "name": "ipython",
    "version": 3
   },
   "file_extension": ".py",
   "mimetype": "text/x-python",
   "name": "python",
   "nbconvert_exporter": "python",
   "pygments_lexer": "ipython3",
   "version": "3.11.4"
  }
 },
 "nbformat": 4,
 "nbformat_minor": 5
}
